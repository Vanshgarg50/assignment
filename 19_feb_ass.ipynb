{
 "cells": [
  {
   "cell_type": "code",
   "execution_count": 1,
   "id": "f1b52305-8c76-4fa0-94ec-4022925eec25",
   "metadata": {},
   "outputs": [
    {
     "name": "stdout",
     "output_type": "stream",
     "text": [
      "Requirement already satisfied: flask in /opt/conda/lib/python3.10/site-packages (2.3.2)\n",
      "Requirement already satisfied: click>=8.1.3 in /opt/conda/lib/python3.10/site-packages (from flask) (8.1.3)\n",
      "Requirement already satisfied: blinker>=1.6.2 in /opt/conda/lib/python3.10/site-packages (from flask) (1.6.2)\n",
      "Requirement already satisfied: itsdangerous>=2.1.2 in /opt/conda/lib/python3.10/site-packages (from flask) (2.1.2)\n",
      "Requirement already satisfied: Jinja2>=3.1.2 in /opt/conda/lib/python3.10/site-packages (from flask) (3.1.2)\n",
      "Requirement already satisfied: Werkzeug>=2.3.3 in /opt/conda/lib/python3.10/site-packages (from flask) (2.3.4)\n",
      "Requirement already satisfied: MarkupSafe>=2.0 in /opt/conda/lib/python3.10/site-packages (from Jinja2>=3.1.2->flask) (2.1.1)\n",
      "Note: you may need to restart the kernel to use updated packages.\n"
     ]
    }
   ],
   "source": [
    "pip install flask"
   ]
  },
  {
   "cell_type": "markdown",
   "id": "9a9e8bc1-4832-463d-ba2f-a24685aef620",
   "metadata": {},
   "source": [
    "Q1. What is Flask Framework? What are the advantages of Flask Framework?"
   ]
  },
  {
   "cell_type": "markdown",
   "id": "96d80d41-421f-4d00-a3c7-d41a8f0956dc",
   "metadata": {},
   "source": [
    "ANS1:\n",
    "    Flask is a Python librarly helps in making APIs or Helps in \n",
    "    exposing python functions to the outerworld(non python webs).\n",
    "    Advantages of flask are:\n",
    "        1 - Simplicity\n",
    "        2 - Flexibility\n",
    "        3 - Minimalistic\n",
    "        4 - Extensibility"
   ]
  },
  {
   "cell_type": "markdown",
   "id": "1ba4ccf6-1062-479f-aafe-58f8e92c5756",
   "metadata": {},
   "source": [
    "Q2. Create a simple Flask application to display ‘Hello World!!’. Attach the screenshot of the output in\n",
    "Jupyter Notebook."
   ]
  },
  {
   "cell_type": "code",
   "execution_count": 5,
   "id": "da4c0938-b52e-4d3c-ab4c-db2f3f232904",
   "metadata": {},
   "outputs": [
    {
     "name": "stdout",
     "output_type": "stream",
     "text": [
      " * Serving Flask app '__main__'\n",
      " * Debug mode: off\n"
     ]
    },
    {
     "name": "stderr",
     "output_type": "stream",
     "text": [
      "WARNING: This is a development server. Do not use it in a production deployment. Use a production WSGI server instead.\n",
      " * Running on all addresses (0.0.0.0)\n",
      " * Running on http://127.0.0.1:5000\n",
      " * Running on http://172.18.0.20:5000\n",
      "Press CTRL+C to quit\n",
      "172.18.0.2 - - [19/May/2023 13:13:02] \"GET /helloji HTTP/1.1\" 200 -\n"
     ]
    }
   ],
   "source": [
    "#ANS2:\n",
    "from flask import Flask\n",
    "\n",
    "app = Flask(__name__)\n",
    "\n",
    "@app.route(\"/helloji\")\n",
    "def helllo():\n",
    "    return \"<h2>Hello World!!</h2>\"\n",
    "\n",
    "if __name__ == \"__main__\":\n",
    "    app.run(host = \"0.0.0.0\")"
   ]
  },
  {
   "cell_type": "markdown",
   "id": "286cf23a-5d8f-470a-ad68-f36a41956035",
   "metadata": {},
   "source": [
    "Q3. What is App routing in Flask? Why do we use app routes?"
   ]
  },
  {
   "cell_type": "markdown",
   "id": "ca9f0cc0-7909-4842-bf7c-4aff10b0bec5",
   "metadata": {},
   "source": [
    "ANS3:\n",
    "    In Flask, app routing refers to the process of defining URL routes and mapping them to specific functions or view handlers within the application. It determines how the application responds to different URLs requested by the client.\n",
    "\n",
    "When a user makes a request to a particular URL in a Flask application, the app routing mechanism matches the URL to a specific route defined in the application. The corresponding function or view handler associated with that route is then executed, generating the appropriate response that is sent back to the client.\n",
    "\n",
    "App routes are used in Flask for several reasons:\n",
    "\n",
    "1. URL Handling: App routes allow you to define how different URLs within your application will be handled. By mapping routes to specific functions, you can control the behavior and response of your application based on the requested URL.\n",
    "\n",
    "2. Endpoint Definition: Each app route represents an endpoint within your application. Endpoints are unique identifiers that help differentiate different sections or functionalities of your web application. They allow you to organize and structure your application's URLs in a meaningful way.\n",
    "\n",
    "3. View Functions: App routes serve as decorators that associate a URL route with a Python function called a view function. View functions are responsible for handling the logic behind generating the response for a specific URL. They can fetch data from a database, render templates, process form data, and return the appropriate HTTP response.\n",
    "\n",
    "4. Dynamic URLs: Flask app routes support dynamic URLs by allowing route parameters to be defined within the URL itself. These parameters can be extracted and used as arguments in the corresponding view function, enabling you to create dynamic and flexible routes that can handle variable data.\n",
    "\n",
    "5. RESTful APIs: App routes are fundamental for building RESTful APIs in Flask. By defining routes for different HTTP methods (such as GET, POST, PUT, DELETE), you can create endpoints that correspond to specific API operations. This allows clients to interact with your application's API by making requests to the appropriate routes.\n",
    "\n",
    "Overall, app routes in Flask provide a way to define the structure and behavior of your web application's URLs. They allow you to map URLs to specific functions or view handlers, enabling you to handle requests, process data, and generate responses in a structured and organized manner."
   ]
  },
  {
   "cell_type": "markdown",
   "id": "42733585-2be0-4b61-9981-7521af60c3bb",
   "metadata": {},
   "source": [
    "Q4. Create a “/welcome” route to display the welcome message “Welcome to ABC Corporation” and a “/”\n",
    "route to show the following details:\n",
    "Company Name: ABC Corporation\n",
    "Location: India\n",
    "Contact Detail: 999-999-9999\n",
    "    "
   ]
  },
  {
   "cell_type": "code",
   "execution_count": 10,
   "id": "4fbf1e20-8e85-4af0-88c2-3ba612c9b2fa",
   "metadata": {},
   "outputs": [
    {
     "name": "stdout",
     "output_type": "stream",
     "text": [
      " * Serving Flask app '__main__'\n",
      " * Debug mode: off\n"
     ]
    },
    {
     "name": "stderr",
     "output_type": "stream",
     "text": [
      "WARNING: This is a development server. Do not use it in a production deployment. Use a production WSGI server instead.\n",
      " * Running on all addresses (0.0.0.0)\n",
      " * Running on http://127.0.0.1:5000\n",
      " * Running on http://172.18.0.20:5000\n",
      "Press CTRL+C to quit\n"
     ]
    }
   ],
   "source": [
    "#ANS4:\n",
    "from flask import Flask\n",
    "app1 = Flask(__name__)\n",
    "\n",
    "@app1.route(\"/welcome\")\n",
    "def welcome():\n",
    "    return \"Welcome to ABC corporation\"\n",
    "\n",
    "@app1.route('/')\n",
    "def well():\n",
    "    return \" Company Name: ABC Corporation /n Location: India /n Contact Detail: 999-999-9999\"\n",
    "\n",
    "if __name__ == \"__main__\":\n",
    "    app.run(host = \"0.0.0.0\")\n"
   ]
  },
  {
   "cell_type": "markdown",
   "id": "3f37c58c-376f-40f4-b11e-0799689eb022",
   "metadata": {},
   "source": [
    "Q5. What function is used in Flask for URL Building? Write a Python code to demonstrate the working of the\n",
    "url_for() function."
   ]
  },
  {
   "cell_type": "code",
   "execution_count": 12,
   "id": "ca658669-953a-4335-84d3-5216345024ce",
   "metadata": {},
   "outputs": [
    {
     "name": "stdout",
     "output_type": "stream",
     "text": [
      "Home URL: /\n",
      "Profile URL: /user/John\n",
      "Product URL: /product/123\n"
     ]
    },
    {
     "data": {
      "text/plain": [
       "\"In this example, we define three routes: the home route, the profile route with a dynamic `username` parameter, and the product route with a dynamic `product_id` parameter. \\n\\nInside the `if __name__ == '__main__'` block, we create a test request context to simulate a request. Then, we use the `url_for()` function to generate URLs for different endpoints.\\n\\nThe `url_for()` function takes the name of the endpoint as its first argument and optional keyword arguments for any route parameters. It returns the URL for the specified endpoint.\\n\\nWhen you run this code, it will output the generated URLs for the corresponding endpoints:\\n\\n```\\nHome URL: /\\nProfile URL: /user/John\\nProduct URL: /product/123\\n```\\n\\nNote that the `url_for()` function abstracts the URLs, allowing you to change the routing configuration without modifying every occurrence of the URLs in your code.\""
      ]
     },
     "execution_count": 12,
     "metadata": {},
     "output_type": "execute_result"
    }
   ],
   "source": [
    "#ANS5\n",
    "'''In Flask, the `url_for()` function is used for URL building. It generates a URL for a specific endpoint (view function) based on its name.\n",
    "\n",
    "Here's a Python code example that demonstrates the usage of the `url_for()` function in Flask:\n",
    "\n",
    "python'''\n",
    "from flask import Flask, url_for\n",
    "\n",
    "app = Flask(__name__)\n",
    "\n",
    "@app.route('/')\n",
    "def home():\n",
    "    return 'Welcome to the home page!'\n",
    "\n",
    "@app.route('/user/<username>')\n",
    "def profile(username):\n",
    "    return f'Welcome, {username}!'\n",
    "\n",
    "@app.route('/product/<int:product_id>')\n",
    "def product(product_id):\n",
    "    return f'Product ID: {product_id}'\n",
    "\n",
    "if __name__ == '__main__':\n",
    "    with app.test_request_context():\n",
    "        # Generate URLs using url_for()\n",
    "\n",
    "        # URL for the 'home' endpoint\n",
    "        home_url = url_for('home')\n",
    "        print('Home URL:', home_url)\n",
    "\n",
    "        # URL for the 'profile' endpoint with username parameter\n",
    "        profile_url = url_for('profile', username='John')\n",
    "        print('Profile URL:', profile_url)\n",
    "\n",
    "        # URL for the 'product' endpoint with product_id parameter\n",
    "        product_url = url_for('product', product_id=123)\n",
    "        print('Product URL:', product_url)\n",
    "\n",
    "'''In this example, we define three routes: the home route, the profile route with a dynamic `username` parameter, and the product route with a dynamic `product_id` parameter. \n",
    "\n",
    "Inside the `if __name__ == '__main__'` block, we create a test request context to simulate a request. Then, we use the `url_for()` function to generate URLs for different endpoints.\n",
    "\n",
    "The `url_for()` function takes the name of the endpoint as its first argument and optional keyword arguments for any route parameters. It returns the URL for the specified endpoint.\n",
    "\n",
    "When you run this code, it will output the generated URLs for the corresponding endpoints:\n",
    "\n",
    "```\n",
    "Home URL: /\n",
    "Profile URL: /user/John\n",
    "Product URL: /product/123\n",
    "```\n",
    "\n",
    "Note that the `url_for()` function abstracts the URLs, allowing you to change the routing configuration without modifying every occurrence of the URLs in your code.'''"
   ]
  },
  {
   "cell_type": "code",
   "execution_count": null,
   "id": "40c15d51-78c7-45b3-b40a-f8125883b2e3",
   "metadata": {},
   "outputs": [],
   "source": []
  }
 ],
 "metadata": {
  "kernelspec": {
   "display_name": "Python 3 (ipykernel)",
   "language": "python",
   "name": "python3"
  },
  "language_info": {
   "codemirror_mode": {
    "name": "ipython",
    "version": 3
   },
   "file_extension": ".py",
   "mimetype": "text/x-python",
   "name": "python",
   "nbconvert_exporter": "python",
   "pygments_lexer": "ipython3",
   "version": "3.10.8"
  }
 },
 "nbformat": 4,
 "nbformat_minor": 5
}
