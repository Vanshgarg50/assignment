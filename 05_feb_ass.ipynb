{
 "cells": [
  {
   "cell_type": "markdown",
   "id": "71698008-741b-4b99-9c59-e7467d27b0e0",
   "metadata": {},
   "source": [
    "Q1. Explain Class and Object with respect to Object-Oriented Programming. Give a suitable example."
   ]
  },
  {
   "cell_type": "markdown",
   "id": "193a2214-7865-4799-8a0e-b031fbc2a429",
   "metadata": {},
   "source": [
    "#ANS1:\n",
    "'''Oops concept focuses on reusability of code in a systematic manner. \n",
    "It includes Class and Objects.\n",
    "Class is considered as a blueprint for creating objects, class name \n",
    "is majorly defined in PascalCase.\n",
    "An Object is an installation of class. when class is defined,\n",
    "a template is defined. memory is allocated only after objrct installation.'''"
   ]
  },
  {
   "cell_type": "markdown",
   "id": "ac81ce52-ac95-468d-8c59-a504ed52f7c4",
   "metadata": {},
   "source": [
    "Q2. Name the four pillars of OOPs."
   ]
  },
  {
   "cell_type": "markdown",
   "id": "8555805a-3774-4a50-8080-67d3789c56e5",
   "metadata": {},
   "source": [
    "#ANS2:\n",
    "1. Abstraction\n",
    "2. Encapsulation\n",
    "3. Inhertance\n",
    "4. Polymorphism"
   ]
  },
  {
   "cell_type": "markdown",
   "id": "34a97c32-29ee-40d9-8784-c4c89e289b05",
   "metadata": {},
   "source": [
    "Q3. Explain why the __init__() function is used. Give a suitable example."
   ]
  },
  {
   "cell_type": "code",
   "execution_count": 1,
   "id": "e915ba10-9b38-4496-91b7-c3ac0b69f510",
   "metadata": {},
   "outputs": [
    {
     "name": "stdout",
     "output_type": "stream",
     "text": [
      "14\n",
      "120\n"
     ]
    }
   ],
   "source": [
    "#ANS3:\n",
    "'''__init__() is also called contructor of a class,\n",
    "it is a special function  or method which is first\n",
    "run as soo  as the object is created.\n",
    "it takes self argument ad can also take further arguments.'''\n",
    "\n",
    "#for exapmle:\n",
    "\n",
    "class BasicMaths:\n",
    "    \n",
    "    def __init__(self,a,b,c,d):\n",
    "        self.a=a\n",
    "        self.b=b\n",
    "        self.c=c\n",
    "        self.d=d\n",
    "    \n",
    "    def summ(self):\n",
    "        return self.a + self.b + self.c + self.d\n",
    "    def product(self):\n",
    "        return self.a * self.b * self.c * self.d      \n",
    "\n",
    "math = BasicMaths(2,3,4,5)\n",
    "print(math.summ())\n",
    "print(math.product())"
   ]
  },
  {
   "cell_type": "markdown",
   "id": "ba81ee70-c169-4510-8aad-ba8e856ef809",
   "metadata": {},
   "source": [
    "Q4. Why self is used in OOPs?"
   ]
  },
  {
   "cell_type": "markdown",
   "id": "8c3f4106-25e9-4417-b703-ee295335b307",
   "metadata": {},
   "source": [
    "#ANS4:\n",
    "Self reffers to the instance of class.\n",
    "it is automatically passsed with a function call from an object.\n",
    "it is necessary to use self as a first a first parameter\n",
    "to make sure that the given object is the partnof the same class."
   ]
  },
  {
   "cell_type": "markdown",
   "id": "40d5e07a-840f-4dd2-938e-5618b63bab86",
   "metadata": {},
   "source": [
    "Q5. What is inheritance? Give an example for each type of inheritance."
   ]
  },
  {
   "cell_type": "markdown",
   "id": "8254379c-c9cf-47a8-b715-5076f26aa4f0",
   "metadata": {},
   "source": [
    "#ANS 5:\n",
    "Inhertance is a way of creating a new class from an existing class\n",
    "there are 5 types of inhertance in python:\n",
    "1. single\n",
    "2. multiple\n",
    "3. multilevel\n",
    "4. hybrib\n",
    "5. hierarchical "
   ]
  },
  {
   "cell_type": "code",
   "execution_count": null,
   "id": "132d1df8-8522-4dba-ac23-049b4ec3f8dd",
   "metadata": {},
   "outputs": [],
   "source": []
  }
 ],
 "metadata": {
  "kernelspec": {
   "display_name": "Python 3 (ipykernel)",
   "language": "python",
   "name": "python3"
  },
  "language_info": {
   "codemirror_mode": {
    "name": "ipython",
    "version": 3
   },
   "file_extension": ".py",
   "mimetype": "text/x-python",
   "name": "python",
   "nbconvert_exporter": "python",
   "pygments_lexer": "ipython3",
   "version": "3.10.8"
  }
 },
 "nbformat": 4,
 "nbformat_minor": 5
}
