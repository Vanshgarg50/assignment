{
 "cells": [
  {
   "cell_type": "markdown",
   "id": "819cefda-7685-47c9-8512-33bf6ac5caaa",
   "metadata": {},
   "source": [
    "*30th Jan Assignment by Vansh Garg*"
   ]
  },
  {
   "cell_type": "markdown",
   "id": "6302e530-0c32-4a73-bdb8-73fc26d174b8",
   "metadata": {},
   "source": [
    "1. Write a program to accept percentage from the user and display the grade according to the following \n",
    "criteria: \n",
    "Marks \n",
    "Grade \n",
    ">90 \n",
    "A \n",
    ">80 and <=90 \n",
    "B \n",
    ">=60 and <=80 \n",
    "C \n",
    "below 60 \n",
    "D \n"
   ]
  },
  {
   "cell_type": "code",
   "execution_count": 11,
   "id": "9b84c2c4-7255-4b56-bb31-ec52d5b0ffdd",
   "metadata": {},
   "outputs": [
    {
     "name": "stdin",
     "output_type": "stream",
     "text": [
      "enter your marks 67\n"
     ]
    },
    {
     "name": "stdout",
     "output_type": "stream",
     "text": [
      "C grade\n"
     ]
    }
   ],
   "source": [
    "#ANS 1:\n",
    "Marks = float(input(\"enter your marks\"))\n",
    "if Marks > 90:\n",
    "    print(\"A grade\")\n",
    "elif Marks > 80 and Marks <= 90:\n",
    "    print(\"B grade\")\n",
    "elif Marks >= 60 and Marks <= 80:\n",
    "    print(\"C grade\")\n",
    "elif Marks < 60:\n",
    "    print(\"D grade\")\n",
    "          "
   ]
  },
  {
   "cell_type": "markdown",
   "id": "cafef9e5-1921-4752-9cfb-73653b9ae856",
   "metadata": {},
   "source": [
    "2. Write a program to accept the cost price of a bike and display the road tax to be paid according to the \n",
    "following criteria: \n",
    "Tax \n",
    "15% \n",
    "10% \n",
    "5% \n",
    "Cost Price(in Rs) \n",
    ">100000 \n"
   ]
  },
  {
   "cell_type": "code",
   "execution_count": 13,
   "id": "35fce9af-6c63-4ba1-bee9-ebb56606b03c",
   "metadata": {},
   "outputs": [
    {
     "name": "stdin",
     "output_type": "stream",
     "text": [
      "enter cost price of the bike 540540504\n"
     ]
    },
    {
     "name": "stdout",
     "output_type": "stream",
     "text": [
      "15% road tax will be charged to your vehicle\n",
      "your tax value is: 81081075.6\n"
     ]
    }
   ],
   "source": [
    "#ANS2:\n",
    "Cp = float(input(\"enter cost price of the bike\"))\n",
    "if Cp > 100000:\n",
    "           print(\"15% road tax will be charged to your vehicle\")\n",
    "           tax = (15*Cp)/100\n",
    "           print(\"your tax value is:\",tax)\n",
    "elif Cp > 50000 and Cp <= 100000:\n",
    "           print(\"10% road tax will be charged to your vehicle\")\n",
    "           tax = (10*Cp)/100\n",
    "           print(\"your tax value is:\",tax)\n",
    "elif Cp <= 50000:\n",
    "           print(\"5% road tax will be charged to your vehicle\")\n",
    "           tax = (5*Cp)/100\n",
    "           print(\"your tax value is:\",tax)\n",
    "           "
   ]
  },
  {
   "cell_type": "markdown",
   "id": "1a1e70ff-9b2a-4e77-ac0d-9e05ca14c5b9",
   "metadata": {},
   "source": [
    "3. Accept any city from the user and display monuments of that city. \n",
    "City \n",
    "Delhi \n",
    "Monument \n",
    "Red Fort \n",
    "Taj Mahal \n",
    "Agra \n",
    "Jaipur \n",
    "Jal Mahal \n"
   ]
  },
  {
   "cell_type": "code",
   "execution_count": 17,
   "id": "c993b53d-2c4b-4629-a69b-d8c9166b0eee",
   "metadata": {},
   "outputs": [
    {
     "name": "stdout",
     "output_type": "stream",
     "text": [
      "options are dict_keys(['Delhi', 'Agra', 'jaipiur'])\n"
     ]
    },
    {
     "name": "stdin",
     "output_type": "stream",
     "text": [
      "enter any city name from the given options \n",
      " Agra\n"
     ]
    },
    {
     "name": "stdout",
     "output_type": "stream",
     "text": [
      "Monument belonging to city is:  Taj Mehal\n"
     ]
    }
   ],
   "source": [
    "#ANS 3:\n",
    "C_dict = {\"Delhi\":\"Red Fort\",\n",
    "          \"Agra\":\"Taj Mehal\",\n",
    "          \"jaipiur\":\"jal Mehal\"}\n",
    "\n",
    "print(\"options are\",C_dict.keys())\n",
    "\n",
    "Cd = input(\"enter any city name from the given options \\n\")\n",
    "\n",
    "print(\"Monument belonging to city is: \", C_dict.get(Cd))\n",
    "\n"
   ]
  },
  {
   "cell_type": "markdown",
   "id": "94e7f441-2b73-41e7-b019-4afb6db7caed",
   "metadata": {},
   "source": [
    "4. Check how many times a given number can be divided by 3 before it is less than or equal to 10. \n"
   ]
  },
  {
   "cell_type": "code",
   "execution_count": 25,
   "id": "c2f25fdb-7874-4bfd-a587-803b72ef2211",
   "metadata": {},
   "outputs": [
    {
     "name": "stdin",
     "output_type": "stream",
     "text": [
      "enter any integer 180\n"
     ]
    },
    {
     "name": "stdout",
     "output_type": "stream",
     "text": [
      "3\n"
     ]
    }
   ],
   "source": [
    "#ANS 4:\n",
    "count=0\n",
    "Num = int(input(\"enter any integer\"))\n",
    "while Num > 10:\n",
    "    Num = Num/3\n",
    "    count = count+ 1\n",
    "        \n",
    "print(count)\n",
    "\n",
    "    "
   ]
  },
  {
   "cell_type": "markdown",
   "id": "834ceea4-1d6e-4d85-b779-63d1d281f0f3",
   "metadata": {},
   "source": [
    "5. Why and When to Use while Loop in Python give a detailed description with example"
   ]
  },
  {
   "cell_type": "code",
   "execution_count": 27,
   "id": "e5669785-66ad-447e-baca-bf45aa013282",
   "metadata": {},
   "outputs": [
    {
     "data": {
      "text/plain": [
       "'while loop is used when number of itrations is unknown and we have a condition to met. However,\\nit works similar to that of for loop but ther is a condition given as command to while loop. for example:\\nif we need itration that are less than 1 and greater than 10.'"
      ]
     },
     "execution_count": 27,
     "metadata": {},
     "output_type": "execute_result"
    }
   ],
   "source": [
    "#ANS 5:\n",
    "'''while loop is used when number of itrations is unknown and we have a condition to met. However,\n",
    "it works similar to that of for loop but ther is a condition given as command to while loop. for example:\n",
    "if we need itration that are less than 1 and greater than 10.'''\n",
    "\n",
    "        \n",
    "    \n",
    "        "
   ]
  },
  {
   "cell_type": "markdown",
   "id": "4de383fa-d92d-46e5-857a-2321eb49045e",
   "metadata": {},
   "source": [
    "6. Use nested while loop to print 3 different pattern."
   ]
  },
  {
   "cell_type": "code",
   "execution_count": 14,
   "id": "33526042-ba77-406c-9a2b-f68e334ef1aa",
   "metadata": {},
   "outputs": [
    {
     "name": "stdin",
     "output_type": "stream",
     "text": [
      "enter any number 4\n"
     ]
    },
    {
     "name": "stdout",
     "output_type": "stream",
     "text": [
      "x \n",
      "x x \n",
      "x x x \n",
      "x x x x \n"
     ]
    },
    {
     "name": "stdin",
     "output_type": "stream",
     "text": [
      "enter any number 5\n"
     ]
    },
    {
     "name": "stdout",
     "output_type": "stream",
     "text": [
      "    V     \n",
      "   V V    \n",
      "  V V V   \n",
      " V V V V  \n",
      "V V V V V \n",
      "|-_-||-_-||-_-|"
     ]
    }
   ],
   "source": [
    "#ANS 6:\n",
    "i=0\n",
    "n=int(input(\"enter any number\"))\n",
    "while(i<n):\n",
    "    print('x '*(i+1))\n",
    "    i+=1\n",
    "    \n",
    "j=0\n",
    "m=int(input(\"enter any number\"))\n",
    "while(j<m):\n",
    "    print(' '*(m-j-1),end='')\n",
    "    print('V '*(j+1),end='')\n",
    "    print(' '*(m-j-1))\n",
    "    j+=1\n",
    "\n",
    "r=0\n",
    "c=0\n",
    "while(r<3):\n",
    "    while(c<3):\n",
    "        if (r+c==r) or (c==1 and r%2==0) or (c==2 and (r*c)%2==0):\n",
    "            print('|-_-|',end='')\n",
    "        else:\n",
    "            print(' ',end='')\n",
    "        \n",
    "        c=c+1\n",
    "    r=r+1\n",
    "    \n",
    "    "
   ]
  },
  {
   "cell_type": "markdown",
   "id": "0ec17a43-7862-4d62-9f51-4fc0e7e18434",
   "metadata": {},
   "source": [
    "7. Reverse a while loop to display numbers from 10 to 1"
   ]
  },
  {
   "cell_type": "code",
   "execution_count": 17,
   "id": "16c8dcd8-84ef-44e1-ae0f-972c8cf77499",
   "metadata": {},
   "outputs": [
    {
     "name": "stdout",
     "output_type": "stream",
     "text": [
      "10\n",
      "9\n",
      "8\n",
      "7\n",
      "6\n",
      "5\n",
      "4\n",
      "3\n",
      "2\n",
      "1\n"
     ]
    }
   ],
   "source": [
    "# ANS 7:\n",
    "i=10\n",
    "while i <=10 and i>0:\n",
    "    print((i))\n",
    "    i = i-1\n",
    "    "
   ]
  },
  {
   "cell_type": "markdown",
   "id": "e383af2c-d5bd-4331-971e-c6bc0fb6f15e",
   "metadata": {},
   "source": [
    "8. Reverse a while loop to display numbers from 10 to 1"
   ]
  },
  {
   "cell_type": "code",
   "execution_count": 19,
   "id": "3aa2cdbe-e9c4-4342-ad5e-34453a2bcda8",
   "metadata": {},
   "outputs": [
    {
     "name": "stdout",
     "output_type": "stream",
     "text": [
      "10\n",
      "9\n",
      "8\n",
      "7\n",
      "6\n",
      "5\n",
      "4\n",
      "3\n",
      "2\n",
      "1\n"
     ]
    }
   ],
   "source": [
    "#Ans 8\n",
    "i=10\n",
    "while i <=10 and i>0:\n",
    "    print((i))\n",
    "    i = i-1\n"
   ]
  }
 ],
 "metadata": {
  "kernelspec": {
   "display_name": "Python 3 (ipykernel)",
   "language": "python",
   "name": "python3"
  },
  "language_info": {
   "codemirror_mode": {
    "name": "ipython",
    "version": 3
   },
   "file_extension": ".py",
   "mimetype": "text/x-python",
   "name": "python",
   "nbconvert_exporter": "python",
   "pygments_lexer": "ipython3",
   "version": "3.10.8"
  }
 },
 "nbformat": 4,
 "nbformat_minor": 5
}
