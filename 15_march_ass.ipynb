{
 "cells": [
  {
   "cell_type": "markdown",
   "id": "67abec00-7194-49d3-9d61-260dee91145a",
   "metadata": {},
   "source": [
    "QD- E=plain thK followin* with an K=amplK-F\n",
    "C) Artificial IntKlli*KncJ\n",
    "<) MachinK LKarnin,\n",
    "I) DKKp LKarning"
   ]
  },
  {
   "cell_type": "markdown",
   "id": "bbae72b2-63e9-446f-8b37-f66d9f8c5ab8",
   "metadata": {},
   "source": [
    "ANS1:\n",
    "    1.) Artificial Intelligence : Commonly called as AI is a field of \n",
    "    data science. AI has its  definition in its name itself, Artificial means \n",
    "    menmade so an intelligence made by men is called Aritificial intelligence.\n",
    "    It includes subsets like ML ,DL etc.\n",
    "    2.) Machine Learning : is a subset of AI and commonly called as ML. machine     learning introdue many statistical and mathematical algorithems which helps \n",
    "    a machine to learn something related to real world.\n",
    "    3.) Deep Learning : is a subset of ML . in 1950s, scientists were curious    about to know does a machine can think or learn like a human being, and here  comes the concept of deep learning."
   ]
  },
  {
   "cell_type": "markdown",
   "id": "ab0fd95a-fc1f-4b3e-ba15-53065500693c",
   "metadata": {},
   "source": [
    "Q2- What is supKrvisKd lKarnin*? List somK K=amplKs of supKrvisKd lKarnin*.\""
   ]
  },
  {
   "cell_type": "markdown",
   "id": "17f6f57d-44e4-4b9d-8a04-d7a5062647ff",
   "metadata": {},
   "source": [
    "Ans2:\n",
    "    ML is mainly divided into 4 sub categories namely;\n",
    "    supervised ml\n",
    "    unsupervised ml\n",
    "    semi-suoervised ml\n",
    "    reinforcement ml\n",
    "    => SuperVised ML : it is the category of ml in which model has a target \n",
    "    to predict irrespective of continuous and discrete or categorical data. Its \n",
    "    main purpose is to serve a prediction based on the training dataset.\n",
    "    it deals with  regression and classfication problems for example:\n",
    "        dealing with the houseprice prediction(regression) and dealing \n",
    "        with \"spam mail\" or \"not spam mail\" classfication probems."
   ]
  },
  {
   "cell_type": "markdown",
   "id": "153b28f3-325d-45ef-82ea-f6dd0654f0bc",
   "metadata": {},
   "source": [
    "Q3- GWhat is unsupKrvisKd lKarnin*? List somK K=amplKs of unsupKrvisKd lKarnin*."
   ]
  },
  {
   "cell_type": "markdown",
   "id": "4e88d510-462b-45bc-b055-96a2f0716965",
   "metadata": {},
   "source": [
    "ANS3:\n",
    "Unsupervised leaning deals with clustering problems which\n",
    "helps to cluster different different kinds of data on the basis of there\n",
    "properties. the data feeeded to unsupervised model has no target column.\n",
    "Some common examples of Unsupervised learning is clustring the customers on the\n",
    "basis of there salary and interests, clustering the products on basis of there\n",
    "use properties."
   ]
  },
  {
   "cell_type": "markdown",
   "id": "63a4ca34-8040-474f-838e-3295cd4d4d25",
   "metadata": {},
   "source": [
    "Q4- What is thK diffKrKncK bKtwKKn AI, ML, DL, and DS?"
   ]
  },
  {
   "cell_type": "markdown",
   "id": "6542025b-44ce-4c3b-93b2-8425211ff6c8",
   "metadata": {},
   "source": [
    "ANS4:\n",
    "   DL is subset of ML i.e. Ml includes all the properties of DL,\n",
    "   Ml is subset of AI i.e. AI includes all the properties of ml,\n",
    "   data science is the combination of AI , ML and DL."
   ]
  },
  {
   "cell_type": "markdown",
   "id": "03561e07-eb52-46f8-887e-22c59c57001f",
   "metadata": {},
   "source": [
    "Q5- What arK thK main diffKrKncKs bKtwKKn supKrvisKd, unsupKrvisKd, and sKmi-supKrvisKd lKarnin*?"
   ]
  },
  {
   "cell_type": "markdown",
   "id": "6c43157d-1c8d-4917-85a0-16d9702d82b7",
   "metadata": {},
   "source": [
    "ANS5:\n",
    "    The main differences between supervised, unsupervised, and semi-supervised learning are as follows:\n",
    "\n",
    "1. Supervised Learning:\n",
    "   Supervised learning is a type of machine learning where the algorithm learns from labeled data. Labeled data consists of input samples (features) and their corresponding desired output (labels or target variable). The algorithm's goal is to learn a mapping function that can predict the correct output for new, unseen inputs. Supervised learning algorithms are trained using a training dataset, and their performance is evaluated on a separate test dataset. Some popular supervised learning algorithms include linear regression, logistic regression, decision trees, and support vector machines.\n",
    "\n",
    "2. Unsupervised Learning:\n",
    "   Unsupervised learning is a type of machine learning where the algorithm learns from unlabeled data. In unsupervised learning, the algorithm's goal is to find hidden patterns, structures, or relationships within the data without any prior knowledge of the correct output. Unsupervised learning algorithms work on datasets that only contain input samples (features) and no corresponding labels. These algorithms use techniques such as clustering, dimensionality reduction, and association rule mining. Clustering algorithms group similar data points together, while dimensionality reduction techniques reduce the number of features while preserving important information.\n",
    "\n",
    "3. Semi-Supervised Learning:\n",
    "   Semi-supervised learning is a combination of supervised and unsupervised learning. It leverages both labeled and unlabeled data to improve learning performance. In semi-supervised learning, a small portion of the data is labeled, and the rest is unlabeled. The algorithm uses the labeled data to learn patterns and generalize them to the unlabeled data. Semi-supervised learning is particularly useful when obtaining labeled data is expensive or time-consuming, as it can make use of readily available unlabeled data. The algorithms used in semi-supervised learning often incorporate aspects of both supervised and unsupervised learning techniques.\n",
    "\n",
    "To summarize, supervised learning uses labeled data to learn a mapping function, unsupervised learning discovers patterns and structures in unlabeled data, and semi-supervised learning combines both labeled and unlabeled data to improve learning performance."
   ]
  },
  {
   "cell_type": "code",
   "execution_count": null,
   "id": "c6488b55-87c9-4a02-b82a-72d1f72b011b",
   "metadata": {},
   "outputs": [],
   "source": []
  }
 ],
 "metadata": {
  "kernelspec": {
   "display_name": "Python 3 (ipykernel)",
   "language": "python",
   "name": "python3"
  },
  "language_info": {
   "codemirror_mode": {
    "name": "ipython",
    "version": 3
   },
   "file_extension": ".py",
   "mimetype": "text/x-python",
   "name": "python",
   "nbconvert_exporter": "python",
   "pygments_lexer": "ipython3",
   "version": "3.10.8"
  }
 },
 "nbformat": 4,
 "nbformat_minor": 5
}
