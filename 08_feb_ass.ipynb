{
 "cells": [
  {
   "cell_type": "markdown",
   "id": "1a6250d1-80aa-41df-aee6-df90c9645c46",
   "metadata": {},
   "source": [
    "Q1. What is Abstraction in OOps? Explain with an example."
   ]
  },
  {
   "cell_type": "markdown",
   "id": "3763e34a-efa6-4514-813c-64e7a27a90bc",
   "metadata": {},
   "source": [
    "#ANS1:\n",
    "In object-oriented programming, abstraction refers to the process of hiding the implementation details of an object and only exposing the essential features and functionality to the outside world. It is a fundamental concept of OOP and enables the programmer to focus on the essential aspects of an object, without worrying about the internal workings of the object.\n",
    "\n",
    "One common example of abstraction is a car. When you drive a car, you do not need to know how the engine works or how the transmission operates. Instead, you only need to know how to drive the car, such as how to steer, accelerate, and brake. The engine and transmission are abstracted away, and the driver only interacts with the essential features of the car."
   ]
  },
  {
   "cell_type": "markdown",
   "id": "d9b2922e-90f1-4a50-91c0-7dcbb0189067",
   "metadata": {},
   "source": [
    "Q2. Differentiate between Abstraction and Encapsulation. Explain with an example."
   ]
  },
  {
   "cell_type": "markdown",
   "id": "a9bc6073-264e-4b4d-8b0f-c3316ea99b04",
   "metadata": {},
   "source": [
    "#ANS2:\n",
    "*Encapsulation*\n",
    "After creating a class, on calling user got access to the arguments \n",
    "defined in class direstly, to avoid this or if someone don't want to give access\n",
    "to an user to their class arguments directly then in this case creator can encapsulized their class variables. due to which user may not have direct access to the arguments in the class. To encapsulized, __ is used before variable name.\n",
    "\n",
    "*Abstraction*\n",
    "In object-oriented programming, abstraction refers to the process of hiding the implementation details of an object and only exposing the essential features and functionality to the outside world. It is a fundamental concept of OOP and enables the programmer to focus on the essential aspects of an object, without worrying about the internal workings of the object."
   ]
  },
  {
   "cell_type": "markdown",
   "id": "7104b85b-04f1-41c3-94bc-a6bab1beab0d",
   "metadata": {},
   "source": [
    "Q3. What is abc module in python? Why is it used?"
   ]
  },
  {
   "cell_type": "markdown",
   "id": "9ecae843-a0fa-4926-af1a-3d80930bd5dd",
   "metadata": {},
   "source": [
    "#ANS3\n",
    "the abc module is a powerful tool for creating well-defined interfaces and improving code maintainability and consistency.\n",
    "The abc module is used to implement interfaces and to define common behavior for a group of related classes. It allows for the creation of well-defined interfaces, which help ensure that classes that implement the interface are interchangeable and can be used in a consistent manner."
   ]
  },
  {
   "cell_type": "markdown",
   "id": "ccea20a2-5964-430f-a340-b3b75ea1f82b",
   "metadata": {},
   "source": [
    "Q4. How can we achieve data abstraction?"
   ]
  },
  {
   "cell_type": "markdown",
   "id": "586d9be6-b410-4fe0-aa93-72221bfd3466",
   "metadata": {},
   "source": [
    "#ANS4:\n",
    "n programming, data abstraction is achieved through encapsulation, which is a technique that hides the implementation details of an object from the user and only exposes the necessary information and functionality."
   ]
  },
  {
   "cell_type": "markdown",
   "id": "2375d36d-7900-4fc8-a67d-7e24a0d7356f",
   "metadata": {},
   "source": [
    "Q5. Can we create an instance of an abstract class? Explain your answer."
   ]
  },
  {
   "cell_type": "markdown",
   "id": "10c8a24d-a038-4203-9ce0-ce043f333cea",
   "metadata": {},
   "source": [
    "#ANS5:\n",
    "No, we cannot create an instance of an abstract class in Python. An abstract class is a class that contains one or more abstract methods, which are methods that are declared but not implemented in the abstract class. An abstract class is designed to be subclassed, and it provides a common interface for its subclasses."
   ]
  },
  {
   "cell_type": "code",
   "execution_count": null,
   "id": "fd55cc2e-fb4a-47a9-bc9e-dbe89b43804a",
   "metadata": {},
   "outputs": [],
   "source": []
  }
 ],
 "metadata": {
  "kernelspec": {
   "display_name": "Python 3 (ipykernel)",
   "language": "python",
   "name": "python3"
  },
  "language_info": {
   "codemirror_mode": {
    "name": "ipython",
    "version": 3
   },
   "file_extension": ".py",
   "mimetype": "text/x-python",
   "name": "python",
   "nbconvert_exporter": "python",
   "pygments_lexer": "ipython3",
   "version": "3.10.8"
  }
 },
 "nbformat": 4,
 "nbformat_minor": 5
}
