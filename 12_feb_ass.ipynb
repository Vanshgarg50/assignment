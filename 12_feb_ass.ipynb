{
 "cells": [
  {
   "cell_type": "markdown",
   "id": "2994438f-8a5a-4651-acd4-5e0c92f5db7b",
   "metadata": {},
   "source": [
    "Q1. Wh\n",
    "t is\n",
    "n Ex,eption in p\n",
    "\n",
    "thon? Write the differen,e etween Ex,eptions\n",
    "nd $\n",
    "nt\n",
    "x errors"
   ]
  },
  {
   "cell_type": "markdown",
   "id": "9c9f5a34-a46a-46d8-897e-5c5368546c6a",
   "metadata": {},
   "source": [
    "*ANS1:*\n",
    "In python, to avoid breaking of code or to avoid  throwing error while\n",
    "executing the program, exceptions are used. exception in python includes keywords like Try,Except, else, finally.\n",
    "the common difference between exception and syntax error is that when error occurs during execution of the program; it breaks the program and output is not shown to the user on the other hand, using exception can prevent the breaking of\n",
    "code and execute the piece of code writtrn in it and then continue to execute the remaing code.\n"
   ]
  },
  {
   "cell_type": "markdown",
   "id": "7974463a-f584-4a2c-9a4b-629c0b28532d",
   "metadata": {},
   "source": [
    "Q2. Wh\n",
    "t h\n",
    "ppens when\n",
    "\n",
    "n ex,eption is not h\n",
    "\n",
    "ndled? Expl\n",
    "in with\n",
    "n ex\n",
    "mple"
   ]
  },
  {
   "cell_type": "markdown",
   "id": "54e34457-0693-46f9-919d-c33650090eac",
   "metadata": {},
   "source": [
    "*ANS2:*\n",
    "When an exception is not handled, it can cause the program to terminate abruptly or behave unexpectedly.\n",
    "\n",
    "Here's an example to illustrate this scenario:\n",
    "\n",
    "Let's say you are writing a program in Python that reads a file and performs some operations on its contents. If the file doesn't exist, Python raises a \"FileNotFoundError\" exception. If you don't handle this exception in your code, the program will terminate abruptly with an error message."
   ]
  },
  {
   "cell_type": "markdown",
   "id": "52da902b-dc60-40fd-ac89-326b3abe28b5",
   "metadata": {},
   "source": [
    "Q3. Whi,h P\n",
    "thon st\n",
    "tements\n",
    "\n",
    "re used to ,\n",
    "t,h\n",
    "nd h\n",
    "ndle ex,eptions? Expl\n",
    "in with\n",
    "n ex\n",
    "mple"
   ]
  },
  {
   "cell_type": "markdown",
   "id": "2d297e63-b6ba-4897-93d5-4c18f1e8d6ea",
   "metadata": {},
   "source": [
    "*ANS3*\n",
    "In Python, the try and except statements are used to handle exceptions. The try statement is used to enclose a block of code that might raise an exception, and the except statement is used to handle the exception if it occurs.\n",
    "\n",
    "Here's an example to illustrate the use of try and except statements:"
   ]
  },
  {
   "cell_type": "code",
   "execution_count": 2,
   "id": "705ff020-34b6-4df0-ac0a-f1ddc9c582c2",
   "metadata": {},
   "outputs": [
    {
     "name": "stdin",
     "output_type": "stream",
     "text": [
      "Enter a number:  3\n",
      "Enter another number:  0\n"
     ]
    },
    {
     "name": "stdout",
     "output_type": "stream",
     "text": [
      "Cannot divide by zero.\n"
     ]
    }
   ],
   "source": [
    "try:\n",
    "    x = int(input(\"Enter a number: \"))\n",
    "    y = int(input(\"Enter another number: \"))\n",
    "    result = x / y\n",
    "    print(\"Result:\", result)\n",
    "except ValueError:\n",
    "    print(\"Invalid input, please enter a number.\")\n",
    "except ZeroDivisionError:\n",
    "    print(\"Cannot divide by zero.\")\n"
   ]
  },
  {
   "cell_type": "markdown",
   "id": "7ee30475-8c0b-4f9a-ac08-58f73052b827",
   "metadata": {},
   "source": [
    "Q4. Expl\n",
    "in with\n",
    "n ex\n",
    "mple:#\n",
    "\n",
    " tr\n",
    "nd else#\n",
    " fin\n",
    "ll\n",
    "+ r\n",
    "ise"
   ]
  },
  {
   "cell_type": "markdown",
   "id": "2899b29b-f813-4548-8da0-365e7eff06a5",
   "metadata": {},
   "source": [
    "*ANS4*\n",
    "In Python, the try, except, and else statements are used together to handle exceptions and perform additional actions when no exceptions are raised.\n",
    "\n",
    "The try statement is used to enclose a block of code that might raise an exception, the except statement is used to handle the exception if it occurs, and the else statement is used to specify a block of code that should be executed if no exception is raised.\n",
    "\n",
    "Here's an example to illustrate the use of try, except, and else statements:"
   ]
  },
  {
   "cell_type": "code",
   "execution_count": 3,
   "id": "65b77e7c-4eef-49f2-af2d-9a38a0461deb",
   "metadata": {},
   "outputs": [
    {
     "name": "stdin",
     "output_type": "stream",
     "text": [
      "Enter a number:  34\n",
      "Enter another number:  vanh\n"
     ]
    },
    {
     "name": "stdout",
     "output_type": "stream",
     "text": [
      "Invalid input, please enter a number.\n"
     ]
    }
   ],
   "source": [
    "try:\n",
    "    x = int(input(\"Enter a number: \"))\n",
    "    y = int(input(\"Enter another number: \"))\n",
    "    result = x / y\n",
    "except ValueError:\n",
    "    print(\"Invalid input, please enter a number.\")\n",
    "except ZeroDivisionError:\n",
    "    print(\"Cannot divide by zero.\")\n",
    "else:\n",
    "    print(\"Result:\", result)\n"
   ]
  },
  {
   "cell_type": "code",
   "execution_count": null,
   "id": "3326bd88-8152-4d1d-97de-93ad1ae7eace",
   "metadata": {},
   "outputs": [],
   "source": []
  }
 ],
 "metadata": {
  "kernelspec": {
   "display_name": "Python 3 (ipykernel)",
   "language": "python",
   "name": "python3"
  },
  "language_info": {
   "codemirror_mode": {
    "name": "ipython",
    "version": 3
   },
   "file_extension": ".py",
   "mimetype": "text/x-python",
   "name": "python",
   "nbconvert_exporter": "python",
   "pygments_lexer": "ipython3",
   "version": "3.10.8"
  }
 },
 "nbformat": 4,
 "nbformat_minor": 5
}
