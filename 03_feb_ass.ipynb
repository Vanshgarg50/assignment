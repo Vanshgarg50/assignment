{
 "cells": [
  {
   "cell_type": "markdown",
   "id": "cd0ab547-198c-4c44-ab5a-ad3b1125c17c",
   "metadata": {},
   "source": [
    "Q1. Which keyword is used to create a function? Create a function to return a list of odd numbers in the\n",
    "range of 1 to 25."
   ]
  },
  {
   "cell_type": "code",
   "execution_count": 6,
   "id": "57f0a441-b4c7-4336-b16b-5737885ba90e",
   "metadata": {},
   "outputs": [
    {
     "name": "stdout",
     "output_type": "stream",
     "text": [
      "1\n",
      "3\n",
      "5\n",
      "7\n",
      "9\n",
      "11\n",
      "13\n",
      "15\n",
      "17\n",
      "19\n",
      "21\n",
      "23\n",
      "25\n"
     ]
    }
   ],
   "source": [
    "#ANS1:\n",
    "''' Def keyword is used to create a function'''\n",
    "def odd_num(n):\n",
    "    '''returns odd integers upto n'''\n",
    "    for i in range(n+1):\n",
    "        if i%2!=0:\n",
    "            print(i)\n",
    "odd_num(25)      "
   ]
  },
  {
   "cell_type": "markdown",
   "id": "7b842036-b4ed-4e9e-91e9-eda627424808",
   "metadata": {},
   "source": [
    "Q2. Why *args and **kwargs is used in some functions? Create a function each for *args and **kwargs\n",
    "to demonstrate their use."
   ]
  },
  {
   "cell_type": "code",
   "execution_count": 20,
   "id": "26f6c36f-49a3-48c4-b337-dfbe04a91d1a",
   "metadata": {},
   "outputs": [
    {
     "name": "stdout",
     "output_type": "stream",
     "text": [
      "('vansh', 'garg', 'data', 'science')('vansh', 'garg', 'data', 'science')\n",
      "{'a': 10, 'b': 20, 'c': 30}\n"
     ]
    }
   ],
   "source": [
    "#ANS 2:\n",
    "''' *args are used to take arguments as many as user wants\n",
    "in a user defined fn. in form of tuples. where as, **args used to\n",
    "take arguments in form of dictionary'''\n",
    "#example of *args\n",
    "def double_str(*args):\n",
    "    a=str(args)*2\n",
    "    return a\n",
    "print(double_str('vansh','garg','data','science'))\n",
    "\n",
    "#example of **args\n",
    "\n",
    "def dictt(**args):\n",
    "    return args\n",
    "print(dictt(a=10,b=20,c=30))\n"
   ]
  },
  {
   "cell_type": "markdown",
   "id": "2b5d6c77-1973-4b6b-80df-e88eb18ed099",
   "metadata": {},
   "source": [
    "Q3. What is an iterator in python? Name the method used to initialise the iterator object and the method\n",
    "used for iteration. Use these methods to print the first five elements of the given list [2, 4, 6, 8, 10, 12, 14,\n",
    "16, 18, 20]."
   ]
  },
  {
   "cell_type": "code",
   "execution_count": 1,
   "id": "7b119ccb-9ac2-48c4-b9ee-9acdf05de443",
   "metadata": {},
   "outputs": [],
   "source": [
    "#ANS3:\n",
    "'''An iterator is an object that contains a countable number of values.\n",
    "An iterator is an object that can be iterated upon,\n",
    "meaning that you can traverse through all the values.'''\n",
    "#iter() is used to intialise iterator objrct \n",
    "# the method used for itratoin is next()\n",
    "lst=[2, 4, 6, 8, 10, 12, 14, 16, 18, 20]\n",
    "lst1=iter(lst)"
   ]
  },
  {
   "cell_type": "code",
   "execution_count": 2,
   "id": "5447cc9d-c070-42e2-b038-9a561d8f5f43",
   "metadata": {},
   "outputs": [
    {
     "data": {
      "text/plain": [
       "2"
      ]
     },
     "execution_count": 2,
     "metadata": {},
     "output_type": "execute_result"
    }
   ],
   "source": [
    "next(lst1)"
   ]
  },
  {
   "cell_type": "code",
   "execution_count": 3,
   "id": "846338a8-d260-42d3-97c2-603430ca06e4",
   "metadata": {},
   "outputs": [
    {
     "data": {
      "text/plain": [
       "4"
      ]
     },
     "execution_count": 3,
     "metadata": {},
     "output_type": "execute_result"
    }
   ],
   "source": [
    "next(lst1)"
   ]
  },
  {
   "cell_type": "code",
   "execution_count": 4,
   "id": "1547978c-0bbf-4850-9bce-1ebb8f955d90",
   "metadata": {},
   "outputs": [
    {
     "data": {
      "text/plain": [
       "6"
      ]
     },
     "execution_count": 4,
     "metadata": {},
     "output_type": "execute_result"
    }
   ],
   "source": [
    "next(lst1)"
   ]
  },
  {
   "cell_type": "code",
   "execution_count": 5,
   "id": "1b52d6ce-b0d2-4cef-b0d1-f93da204ab02",
   "metadata": {},
   "outputs": [
    {
     "data": {
      "text/plain": [
       "8"
      ]
     },
     "execution_count": 5,
     "metadata": {},
     "output_type": "execute_result"
    }
   ],
   "source": [
    "next(lst1)"
   ]
  },
  {
   "cell_type": "code",
   "execution_count": 6,
   "id": "0e03c9be-ac46-416f-bb67-9de6f62b5806",
   "metadata": {},
   "outputs": [
    {
     "data": {
      "text/plain": [
       "10"
      ]
     },
     "execution_count": 6,
     "metadata": {},
     "output_type": "execute_result"
    }
   ],
   "source": [
    "next(lst1)"
   ]
  },
  {
   "cell_type": "markdown",
   "id": "764539f1-d5d0-4965-8eee-c371a3949517",
   "metadata": {},
   "source": [
    "Q4. What is a generator function in python? Why yield keyword is used? Give an example of a generator\n",
    "function.\n"
   ]
  },
  {
   "cell_type": "code",
   "execution_count": 7,
   "id": "2630fc1b-796c-4a41-ba8a-f5ab02c6d6d1",
   "metadata": {},
   "outputs": [
    {
     "name": "stdout",
     "output_type": "stream",
     "text": [
      "0\n",
      "1\n",
      "2\n",
      "3\n",
      "4\n"
     ]
    }
   ],
   "source": [
    "#ANS4 \n",
    "''' Funtion which generates outcomes and yield \n",
    "them with storing everything in the memory are \n",
    "called generator functions.'''\n",
    "'''yield works similar to return keyword but except of storing \n",
    "all elements first in memory and then return , it yields\n",
    "the outcome just after generating due to which memory \n",
    "consumption and time both can be saved'''\n",
    "#best exapmle of geerator function is range\n",
    "for i in range(5):\n",
    "    print(i)"
   ]
  },
  {
   "cell_type": "markdown",
   "id": "2cb87666-3978-4620-8e26-8efcdb5e3d08",
   "metadata": {},
   "source": [
    "Q5. Create a generator function for prime numbers less than 1000. Use the next() method to print the\n",
    "first 20 prime numbers."
   ]
  },
  {
   "cell_type": "code",
   "execution_count": 48,
   "id": "946ad1ae-afea-4d55-8775-4c27e51e92e8",
   "metadata": {},
   "outputs": [],
   "source": [
    "def prime(n):\n",
    "    for i in range(2,n):\n",
    "        if i==2 or i==3 or i==5:\n",
    "            yield i\n",
    "        elif i%2!=0 and i%3!=0 and i%5!=0:\n",
    "            yield i"
   ]
  },
  {
   "cell_type": "code",
   "execution_count": 49,
   "id": "dc307d01-b781-472b-9312-8b68e0ecabf7",
   "metadata": {},
   "outputs": [
    {
     "name": "stdout",
     "output_type": "stream",
     "text": [
      "2\n",
      "3\n",
      "5\n",
      "7\n",
      "11\n",
      "13\n",
      "17\n",
      "19\n",
      "23\n",
      "29\n",
      "31\n",
      "37\n",
      "41\n",
      "43\n",
      "47\n",
      "49\n",
      "53\n",
      "59\n",
      "61\n",
      "67\n",
      "71\n",
      "73\n",
      "77\n",
      "79\n",
      "83\n",
      "89\n",
      "91\n",
      "97\n",
      "101\n",
      "103\n",
      "107\n",
      "109\n",
      "113\n",
      "119\n",
      "121\n",
      "127\n",
      "131\n",
      "133\n",
      "137\n",
      "139\n",
      "143\n",
      "149\n",
      "151\n",
      "157\n",
      "161\n",
      "163\n",
      "167\n",
      "169\n",
      "173\n",
      "179\n",
      "181\n",
      "187\n",
      "191\n",
      "193\n",
      "197\n",
      "199\n",
      "203\n",
      "209\n",
      "211\n",
      "217\n",
      "221\n",
      "223\n",
      "227\n",
      "229\n",
      "233\n",
      "239\n",
      "241\n",
      "247\n",
      "251\n",
      "253\n",
      "257\n",
      "259\n",
      "263\n",
      "269\n",
      "271\n",
      "277\n",
      "281\n",
      "283\n",
      "287\n",
      "289\n",
      "293\n",
      "299\n",
      "301\n",
      "307\n",
      "311\n",
      "313\n",
      "317\n",
      "319\n",
      "323\n",
      "329\n",
      "331\n",
      "337\n",
      "341\n",
      "343\n",
      "347\n",
      "349\n",
      "353\n",
      "359\n",
      "361\n",
      "367\n",
      "371\n",
      "373\n",
      "377\n",
      "379\n",
      "383\n",
      "389\n",
      "391\n",
      "397\n",
      "401\n",
      "403\n",
      "407\n",
      "409\n",
      "413\n",
      "419\n",
      "421\n",
      "427\n",
      "431\n",
      "433\n",
      "437\n",
      "439\n",
      "443\n",
      "449\n",
      "451\n",
      "457\n",
      "461\n",
      "463\n",
      "467\n",
      "469\n",
      "473\n",
      "479\n",
      "481\n",
      "487\n",
      "491\n",
      "493\n",
      "497\n",
      "499\n",
      "503\n",
      "509\n",
      "511\n",
      "517\n",
      "521\n",
      "523\n",
      "527\n",
      "529\n",
      "533\n",
      "539\n",
      "541\n",
      "547\n",
      "551\n",
      "553\n",
      "557\n",
      "559\n",
      "563\n",
      "569\n",
      "571\n",
      "577\n",
      "581\n",
      "583\n",
      "587\n",
      "589\n",
      "593\n",
      "599\n",
      "601\n",
      "607\n",
      "611\n",
      "613\n",
      "617\n",
      "619\n",
      "623\n",
      "629\n",
      "631\n",
      "637\n",
      "641\n",
      "643\n",
      "647\n",
      "649\n",
      "653\n",
      "659\n",
      "661\n",
      "667\n",
      "671\n",
      "673\n",
      "677\n",
      "679\n",
      "683\n",
      "689\n",
      "691\n",
      "697\n",
      "701\n",
      "703\n",
      "707\n",
      "709\n",
      "713\n",
      "719\n",
      "721\n",
      "727\n",
      "731\n",
      "733\n",
      "737\n",
      "739\n",
      "743\n",
      "749\n",
      "751\n",
      "757\n",
      "761\n",
      "763\n",
      "767\n",
      "769\n",
      "773\n",
      "779\n",
      "781\n",
      "787\n",
      "791\n",
      "793\n",
      "797\n",
      "799\n",
      "803\n",
      "809\n",
      "811\n",
      "817\n",
      "821\n",
      "823\n",
      "827\n",
      "829\n",
      "833\n",
      "839\n",
      "841\n",
      "847\n",
      "851\n",
      "853\n",
      "857\n",
      "859\n",
      "863\n",
      "869\n",
      "871\n",
      "877\n",
      "881\n",
      "883\n",
      "887\n",
      "889\n",
      "893\n",
      "899\n",
      "901\n",
      "907\n",
      "911\n",
      "913\n",
      "917\n",
      "919\n",
      "923\n",
      "929\n",
      "931\n",
      "937\n",
      "941\n",
      "943\n",
      "947\n",
      "949\n",
      "953\n",
      "959\n",
      "961\n",
      "967\n",
      "971\n",
      "973\n",
      "977\n",
      "979\n",
      "983\n",
      "989\n",
      "991\n",
      "997\n"
     ]
    }
   ],
   "source": [
    "prime = prime(1000)\n",
    "for i in prime:\n",
    "    print(i)"
   ]
  },
  {
   "cell_type": "markdown",
   "id": "53335acc-4408-4953-83cf-38aaf44cf93e",
   "metadata": {},
   "source": [
    "Q6. Write a python program to print the first 10 Fibonacci numbers using a while loop."
   ]
  },
  {
   "cell_type": "code",
   "execution_count": 54,
   "id": "32122f75-f9a2-4416-9347-6b98f8a42385",
   "metadata": {},
   "outputs": [
    {
     "name": "stdout",
     "output_type": "stream",
     "text": [
      "0\n",
      "1\n",
      "1\n",
      "2\n",
      "3\n",
      "5\n",
      "8\n",
      "13\n",
      "21\n",
      "34\n"
     ]
    }
   ],
   "source": [
    "#ANS 6\n",
    "i=0\n",
    "a,b=0,1\n",
    "while (i<10):\n",
    "    print(a)\n",
    "    a,b=b,a+b\n",
    "    i+=1"
   ]
  },
  {
   "cell_type": "markdown",
   "id": "2a313f05-8b28-481f-b3f2-1287cbbd859c",
   "metadata": {},
   "source": [
    "Q7. Write a List Comprehension to iterate through the given string: ‘pwskills’.\n",
    "Expected output: ['p', 'w', 's', 'k', 'i', 'l', 'l', 's']"
   ]
  },
  {
   "cell_type": "code",
   "execution_count": 57,
   "id": "e6a9f334-9c4f-473c-a6bc-72cc350701ae",
   "metadata": {},
   "outputs": [
    {
     "data": {
      "text/plain": [
       "['p', 'w', 's', 'k', 'i', 'l', 'l', 's']"
      ]
     },
     "execution_count": 57,
     "metadata": {},
     "output_type": "execute_result"
    }
   ],
   "source": [
    "#ANS7\n",
    "[ i for i in 'pwskills']"
   ]
  },
  {
   "cell_type": "markdown",
   "id": "d8514d70-def7-4a0c-8e13-d4f9b83bf252",
   "metadata": {},
   "source": [
    "Q8. Write a python program to check whether a given number is Palindrome or not using a while loop."
   ]
  },
  {
   "cell_type": "code",
   "execution_count": 73,
   "id": "b76c10f9-3d1a-4d59-8749-ab8f9ecfbbc8",
   "metadata": {},
   "outputs": [
    {
     "name": "stdin",
     "output_type": "stream",
     "text": [
      "enter value 12345654321\n"
     ]
    },
    {
     "name": "stdout",
     "output_type": "stream",
     "text": [
      "pallindrome\n"
     ]
    }
   ],
   "source": [
    "#ANS8:\n",
    "n = input(\"enter value\")\n",
    "i=0\n",
    "if n[::-1] == n:\n",
    "        print(\"pallindrome\")\n",
    "else:\n",
    "        print(\"not\")"
   ]
  },
  {
   "cell_type": "markdown",
   "id": "2f1057f5-93e6-4ff5-8732-49e0175c32fc",
   "metadata": {},
   "source": [
    "Q9. Write a code to print odd numbers from 1 to 100 using list comprehension."
   ]
  },
  {
   "cell_type": "code",
   "execution_count": 75,
   "id": "bb6a42c5-a3e2-4be3-8af6-3d4bd10af35b",
   "metadata": {},
   "outputs": [
    {
     "data": {
      "text/plain": [
       "[1,\n",
       " 3,\n",
       " 5,\n",
       " 7,\n",
       " 9,\n",
       " 11,\n",
       " 13,\n",
       " 15,\n",
       " 17,\n",
       " 19,\n",
       " 21,\n",
       " 23,\n",
       " 25,\n",
       " 27,\n",
       " 29,\n",
       " 31,\n",
       " 33,\n",
       " 35,\n",
       " 37,\n",
       " 39,\n",
       " 41,\n",
       " 43,\n",
       " 45,\n",
       " 47,\n",
       " 49,\n",
       " 51,\n",
       " 53,\n",
       " 55,\n",
       " 57,\n",
       " 59,\n",
       " 61,\n",
       " 63,\n",
       " 65,\n",
       " 67,\n",
       " 69,\n",
       " 71,\n",
       " 73,\n",
       " 75,\n",
       " 77,\n",
       " 79,\n",
       " 81,\n",
       " 83,\n",
       " 85,\n",
       " 87,\n",
       " 89,\n",
       " 91,\n",
       " 93,\n",
       " 95,\n",
       " 97,\n",
       " 99]"
      ]
     },
     "execution_count": 75,
     "metadata": {},
     "output_type": "execute_result"
    }
   ],
   "source": [
    "#ANS 9:\n",
    "[ i for i in range(1,100,2)]"
   ]
  },
  {
   "cell_type": "code",
   "execution_count": null,
   "id": "11f94d32-2cec-49eb-8177-8385a0bf9cb3",
   "metadata": {},
   "outputs": [],
   "source": []
  }
 ],
 "metadata": {
  "kernelspec": {
   "display_name": "Python 3 (ipykernel)",
   "language": "python",
   "name": "python3"
  },
  "language_info": {
   "codemirror_mode": {
    "name": "ipython",
    "version": 3
   },
   "file_extension": ".py",
   "mimetype": "text/x-python",
   "name": "python",
   "nbconvert_exporter": "python",
   "pygments_lexer": "ipython3",
   "version": "3.10.8"
  }
 },
 "nbformat": 4,
 "nbformat_minor": 5
}
