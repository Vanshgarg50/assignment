{
 "cells": [
  {
   "cell_type": "markdown",
   "id": "3fa21252-12f9-4132-ab78-03873898a8ca",
   "metadata": {},
   "source": [
    "#06 feb python Task 1\n",
    "____Vansh___"
   ]
  },
  {
   "cell_type": "markdown",
   "id": "1811946f-125b-41b2-a19a-ee25ba032cf8",
   "metadata": {},
   "source": [
    "Q1. Create a function which will take a list as an argument and return the product of all the numbers\n",
    "after creating a flat list.\n",
    "Use the below-given list as an argument for your function.\n",
    "list1 = [1,2,3,4, [44,55,66, True], False, (34,56,78,89,34), {1,2,3,3,2,1}, {1:34, \"key2\": [55, 67, 78, 89], 4: (45,\n",
    "22, 61, 34)}, [56, 'data science'], 'Machine Learning']"
   ]
  },
  {
   "cell_type": "code",
   "execution_count": 1,
   "id": "df737dd3-4249-4f69-ac41-2aa6b4cd486f",
   "metadata": {},
   "outputs": [],
   "source": [
    "\n",
    "\n",
    "#ANS1:\n",
    "list1 = [1,2,3,4, [44,55,66, True], False, (34,56,78,89,34), {1,2,3,3,2,1}, {1:34, \"key2\": [55, 67, 78, 89], 4: (45, 22, 61, 34)}, [56, 'data science'], 'Machine Learning']\n",
    "    \n",
    "def pro_list(l):\n",
    "    flat_l =[]\n",
    "    for i in l:\n",
    "        if isinstance(i,(list,tuple,set)):\n",
    "            flat_l.extend(i)\n",
    "        if isinstance(i,(dict)):\n",
    "            for k,v in i.items():\n",
    "                if isinstance(k , (int,float)):\n",
    "                    flat_l.append(k)\n",
    "                elif isinstance(k , (list,tuple,set)):\n",
    "                    flat_l.extend(k)\n",
    "                \n",
    "                if isinstance(v , (list,tuple,set)):\n",
    "                    flat_l.extend(v)\n",
    "                elif isinstance(v , (int,float)):\n",
    "                    flat_l.append(v)\n",
    "        \n",
    "          \n",
    "    product = 1\n",
    "    for i in flat_l:\n",
    "        if isinstance(i, (int, float)):\n",
    "            product *= i\n",
    "    return product         \n",
    "            \n",
    "                            "
   ]
  },
  {
   "cell_type": "code",
   "execution_count": 2,
   "id": "1cbc931b-80de-4d61-9dee-24130784b47f",
   "metadata": {},
   "outputs": [
    {
     "data": {
      "text/plain": [
       "172279659957795228284743385088000"
      ]
     },
     "execution_count": 2,
     "metadata": {},
     "output_type": "execute_result"
    }
   ],
   "source": [
    "pro_list(list1)"
   ]
  },
  {
   "cell_type": "markdown",
   "id": "89440107-4a83-4cc6-bad5-10dc98cdeda0",
   "metadata": {},
   "source": [
    "Q2. Write a python program for encrypting a message sent to you by your friend. The logic of encryption\n",
    "should be such that, for a the output should be z. For b, the output should be y. For c, the output should\n",
    "be x respectively. Also, the whitespace should be replaced with a dollar sign. Keep the punctuation\n",
    "marks unchanged.\n",
    "Input Sentence: I want to become a Data Scientist.\n",
    "Encrypt the above input sentence using the program you just created."
   ]
  },
  {
   "cell_type": "code",
   "execution_count": 3,
   "id": "f053f345-9c7b-4a6f-8807-d8bac09d3076",
   "metadata": {},
   "outputs": [
    {
     "name": "stdout",
     "output_type": "stream",
     "text": [
      "['a', 'b', 'c', 'd', 'e', 'f', 'g', 'h', 'i', 'j', 'k', 'l', 'm', 'n', 'o', 'p', 'q', 'r', 's', 't', 'u', 'v', 'w', 'x', 'y', 'z']\n"
     ]
    }
   ],
   "source": [
    "#ANS2:\n",
    "import string\n",
    "alph_list = list(string.ascii_lowercase)\n",
    "print(alph_list)"
   ]
  },
  {
   "cell_type": "code",
   "execution_count": 4,
   "id": "255f83d8-0d27-422d-8358-060571a2d850",
   "metadata": {},
   "outputs": [],
   "source": [
    "def encrypt_message(message):\n",
    "    encrypted = \"\"\n",
    "    for char in message:\n",
    "        if char.isalpha():\n",
    "            encrypted += chr(219 - ord(char))\n",
    "        elif char == \" \":\n",
    "            encrypted += \"$\"\n",
    "        else:\n",
    "            encrypted += char\n",
    "    return encrypted"
   ]
  },
  {
   "cell_type": "code",
   "execution_count": 5,
   "id": "0fdbd959-c0e7-42b5-9606-29ef2a925121",
   "metadata": {},
   "outputs": [
    {
     "name": "stdin",
     "output_type": "stream",
     "text": [
      "enter sentence I want to become a Data Scientist\n"
     ]
    },
    {
     "data": {
      "text/plain": [
       "'i want to become a data scientist'"
      ]
     },
     "execution_count": 5,
     "metadata": {},
     "output_type": "execute_result"
    }
   ],
   "source": [
    "s=input(\"enter sentence\")\n",
    "s1=s.lower()\n",
    "s1"
   ]
  },
  {
   "cell_type": "code",
   "execution_count": 9,
   "id": "53decf9b-0339-4f71-beeb-1d55d0f8abd3",
   "metadata": {},
   "outputs": [
    {
     "data": {
      "text/plain": [
       "'r$dzmg$gl$yvxlnv$z$wzgz$hxrvmgrhg'"
      ]
     },
     "execution_count": 9,
     "metadata": {},
     "output_type": "execute_result"
    }
   ],
   "source": [
    "s2=encrypt_message(s1)\n",
    "s2   "
   ]
  },
  {
   "cell_type": "code",
   "execution_count": null,
   "id": "21199017-4a33-4111-b1e6-219f74a9df8c",
   "metadata": {},
   "outputs": [],
   "source": []
  }
 ],
 "metadata": {
  "kernelspec": {
   "display_name": "Python 3 (ipykernel)",
   "language": "python",
   "name": "python3"
  },
  "language_info": {
   "codemirror_mode": {
    "name": "ipython",
    "version": 3
   },
   "file_extension": ".py",
   "mimetype": "text/x-python",
   "name": "python",
   "nbconvert_exporter": "python",
   "pygments_lexer": "ipython3",
   "version": "3.10.8"
  }
 },
 "nbformat": 4,
 "nbformat_minor": 5
}
