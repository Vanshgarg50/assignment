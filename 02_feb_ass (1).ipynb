{
 "cells": [
  {
   "cell_type": "markdown",
   "id": "fe9b67cd-a18f-454e-93ac-f62b83f7f891",
   "metadata": {},
   "source": [
    "Q1. Explain with an example each when to use a for loop and a while loop."
   ]
  },
  {
   "cell_type": "raw",
   "id": "1cdbfc09-37d8-457f-851e-2eae49e42be3",
   "metadata": {},
   "source": [
    "A for loop is used when you know the number of times you need to iterate through a block of code, whereas a while loop is used when you don't know how many times you need to iterate through a block of code.\n",
    "Example of when to use a for loop:\n",
    "Suppose you want to print out the first 10 numbers of the Fibonacci sequence. You know exactly how many numbers you need to print, so you can use a for loop \n",
    "Example of when to use a while loop:\n",
    "Suppose you want to take user input until they enter the word \"quit\". You don't know how many times the user will input something before they quit, so you can use a while loop "
   ]
  },
  {
   "cell_type": "markdown",
   "id": "1e575a83-6ebf-4281-b05c-0665b87b4841",
   "metadata": {},
   "source": [
    "Q2. Write a python program to print the sum and product of the first 10 natural numbers using for\n",
    "and while loop."
   ]
  },
  {
   "cell_type": "code",
   "execution_count": 11,
   "id": "7261467c-83e9-4147-ba69-8ab8a295403f",
   "metadata": {},
   "outputs": [
    {
     "name": "stdout",
     "output_type": "stream",
     "text": [
      "sum using for loop :55\n",
      "pro using for loop :3628800\n",
      "sum using while loop :55\n",
      "pro using while loop :3628800\n"
     ]
    }
   ],
   "source": [
    "#Ans2\n",
    "# SUM AND PRODUCT USING FOR LOOP FIRST:\n",
    "summ=0\n",
    "pro=1\n",
    "for i in range(1,11):\n",
    "    summ=summ+i    \n",
    "    pro=pro*i\n",
    "\n",
    "print(f\"sum using for loop :{summ}\")\n",
    "print(f\"pro using for loop :{pro}\")\n",
    "   \n",
    "# SUM AND PRODUCT USING WHILE LOOP:\n",
    "i=1\n",
    "s=0\n",
    "p=1\n",
    "while(i<=10):\n",
    "    \n",
    "    s=s+i    \n",
    "    p=p*i\n",
    "    i=i+1\n",
    "\n",
    "print(f\"sum using while loop :{s}\")\n",
    "print(f\"pro using while loop :{p}\")\n",
    "\n"
   ]
  },
  {
   "cell_type": "markdown",
   "id": "2ef49104-c127-4741-9b1f-18b07c5aa68b",
   "metadata": {},
   "source": [
    "Q3. Create a python program to compute the electricity bill for a household.\n",
    "The per-unit charges in rupees are as follows: For the first 100 units, the user will be charged Rs. 4.5 per\n",
    "unit, for the next 100 units, the user will be charged Rs. 6 per unit, and for the next 100 units, the user will\n",
    "be charged Rs. 10 per unit, After 300 units and above the user will be charged Rs. 20 per unit.\n",
    "You are required to take the units of electricity consumed in a month from the user as input.\n",
    "Your program must pass this test case: when the unit of electricity consumed by the user in a month is\n",
    "310, the total electricity bill should be 2250."
   ]
  },
  {
   "cell_type": "code",
   "execution_count": 31,
   "id": "8d2cde54-b733-45e8-bb8b-cdf53bfd3630",
   "metadata": {},
   "outputs": [
    {
     "name": "stdin",
     "output_type": "stream",
     "text": [
      "enter your electricity usage value 310\n"
     ]
    },
    {
     "name": "stdout",
     "output_type": "stream",
     "text": [
      "Total amaount:2250.0\n"
     ]
    }
   ],
   "source": [
    "#ANS 3:\n",
    "n=int(input(\"enter your electricity usage value\"))\n",
    "for i in range(n+1):\n",
    "    if i<=100:\n",
    "        a=4.5*i\n",
    "for j in range(0,n+1-100):\n",
    "    if j<=100:\n",
    "        b=6*j\n",
    "for k in range(0,n+1-200):\n",
    "    if k<=100:\n",
    "        c=10*k\n",
    "for l in range(0,n+1-300):\n",
    "        d=20*l\n",
    "print(f\"Total amaount:{a+b+c+d}\")"
   ]
  },
  {
   "cell_type": "markdown",
   "id": "d9c28efb-c365-429d-97ea-655a2e6c1851",
   "metadata": {},
   "source": [
    "Q4. Create a list of numbers from 1 to 100. Use for loop and while loop to calculate the cube of each\n",
    "number and if the cube of that number is divisible by 4 or 5 then append that number in a list and print\n",
    "that list."
   ]
  },
  {
   "cell_type": "code",
   "execution_count": 36,
   "id": "7f07be4c-5acd-4b87-a316-a6692fb95c84",
   "metadata": {},
   "outputs": [
    {
     "data": {
      "text/plain": [
       "[8,\n",
       " 64,\n",
       " 125,\n",
       " 216,\n",
       " 512,\n",
       " 1000,\n",
       " 1728,\n",
       " 2744,\n",
       " 3375,\n",
       " 4096,\n",
       " 5832,\n",
       " 8000,\n",
       " 10648,\n",
       " 13824,\n",
       " 15625,\n",
       " 17576,\n",
       " 21952,\n",
       " 27000,\n",
       " 32768,\n",
       " 39304,\n",
       " 42875,\n",
       " 46656,\n",
       " 54872,\n",
       " 64000,\n",
       " 74088,\n",
       " 85184,\n",
       " 91125,\n",
       " 97336,\n",
       " 110592,\n",
       " 125000,\n",
       " 140608,\n",
       " 157464,\n",
       " 166375,\n",
       " 175616,\n",
       " 195112,\n",
       " 216000,\n",
       " 238328,\n",
       " 262144,\n",
       " 274625,\n",
       " 287496,\n",
       " 314432,\n",
       " 343000,\n",
       " 373248,\n",
       " 405224,\n",
       " 421875,\n",
       " 438976,\n",
       " 474552,\n",
       " 512000,\n",
       " 551368,\n",
       " 592704,\n",
       " 614125,\n",
       " 636056,\n",
       " 681472,\n",
       " 729000,\n",
       " 778688,\n",
       " 830584,\n",
       " 857375,\n",
       " 884736,\n",
       " 941192,\n",
       " 1000000]"
      ]
     },
     "execution_count": 36,
     "metadata": {},
     "output_type": "execute_result"
    }
   ],
   "source": [
    "#ANS 4:\n",
    "#USING FOR LOOP\n",
    "L=[]\n",
    "for i in range(1,101):\n",
    "    L.append(i)\n",
    "L\n",
    "\n",
    "L1=[]\n",
    "for j in L:\n",
    "    j=j**3\n",
    "    if j%4==0 or j%5==0:\n",
    "        L1.append(j)\n",
    "L1\n",
    "\n",
    "\n",
    "    "
   ]
  },
  {
   "cell_type": "code",
   "execution_count": 18,
   "id": "6d95b577-fc74-483d-9cc7-8a7197d43b0a",
   "metadata": {},
   "outputs": [
    {
     "data": {
      "text/plain": [
       "[8,\n",
       " 64,\n",
       " 125,\n",
       " 216,\n",
       " 512,\n",
       " 1000,\n",
       " 1728,\n",
       " 2744,\n",
       " 3375,\n",
       " 4096,\n",
       " 5832,\n",
       " 8000,\n",
       " 10648,\n",
       " 13824,\n",
       " 15625,\n",
       " 17576,\n",
       " 21952,\n",
       " 27000,\n",
       " 32768,\n",
       " 39304,\n",
       " 42875,\n",
       " 46656,\n",
       " 54872,\n",
       " 64000,\n",
       " 74088,\n",
       " 85184,\n",
       " 91125,\n",
       " 97336,\n",
       " 110592,\n",
       " 125000,\n",
       " 140608,\n",
       " 157464,\n",
       " 166375,\n",
       " 175616,\n",
       " 195112,\n",
       " 216000,\n",
       " 238328,\n",
       " 262144,\n",
       " 274625,\n",
       " 287496,\n",
       " 314432,\n",
       " 343000,\n",
       " 373248,\n",
       " 405224,\n",
       " 421875,\n",
       " 438976,\n",
       " 474552,\n",
       " 512000,\n",
       " 551368,\n",
       " 592704,\n",
       " 614125,\n",
       " 636056,\n",
       " 681472,\n",
       " 729000,\n",
       " 778688,\n",
       " 830584,\n",
       " 857375,\n",
       " 884736,\n",
       " 941192,\n",
       " 1000000]"
      ]
     },
     "execution_count": 18,
     "metadata": {},
     "output_type": "execute_result"
    }
   ],
   "source": [
    "#ANS 4:\n",
    "#USING WHILE LOOP:\n",
    "L=[]\n",
    "i=1\n",
    "while (i<=100):\n",
    "        L.append(i)\n",
    "        i+=1\n",
    "L\n",
    "\n",
    "j=1\n",
    "L1=[]\n",
    "while (j <= 100):\n",
    "        a=j**3\n",
    "        if a%4==0 or a%5==0:\n",
    "            L1.append(a)\n",
    "        j=j+1\n",
    "        \n",
    "L1\n"
   ]
  },
  {
   "cell_type": "markdown",
   "id": "49a6f524-32c7-4897-aa1f-1178dd9936c5",
   "metadata": {},
   "source": [
    "Q 5. Write a program to filter count vowels in the below-given string.\n",
    "string = \"I want to become a data scientist\""
   ]
  },
  {
   "cell_type": "code",
   "execution_count": 23,
   "id": "8e2c1b1b-de8c-46e6-ad9b-c89fe0d050bf",
   "metadata": {},
   "outputs": [
    {
     "name": "stdout",
     "output_type": "stream",
     "text": [
      "12\n"
     ]
    }
   ],
   "source": [
    "#ANS 5:\n",
    "count=0\n",
    "string = \"I want to become a data scientist\"\n",
    "for i in string:\n",
    "    if i in ['a','e','i','o','u','A','E','I','O','U']:\n",
    "         count=count+1\n",
    "print(count)"
   ]
  },
  {
   "cell_type": "code",
   "execution_count": null,
   "id": "066ba295-a38d-49d6-becf-cb31a681e692",
   "metadata": {},
   "outputs": [],
   "source": []
  }
 ],
 "metadata": {
  "kernelspec": {
   "display_name": "Python 3 (ipykernel)",
   "language": "python",
   "name": "python3"
  },
  "language_info": {
   "codemirror_mode": {
    "name": "ipython",
    "version": 3
   },
   "file_extension": ".py",
   "mimetype": "text/x-python",
   "name": "python",
   "nbconvert_exporter": "python",
   "pygments_lexer": "ipython3",
   "version": "3.10.8"
  }
 },
 "nbformat": 4,
 "nbformat_minor": 5
}
