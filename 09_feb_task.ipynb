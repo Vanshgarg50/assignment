{
 "cells": [
  {
   "cell_type": "markdown",
   "id": "979e4495-8266-4261-845c-9cd6889ee67a",
   "metadata": {},
   "source": [
    "Q1, Create a vehicle class with an init method having instance variables as name_of_vehicle, max_speed\n",
    "and average_of_vehicle."
   ]
  },
  {
   "cell_type": "code",
   "execution_count": 1,
   "id": "5222f38a-9829-41ec-b9b5-fd9e8b3462ec",
   "metadata": {},
   "outputs": [],
   "source": [
    "#ANS1:\n",
    "class Vehicle:\n",
    "    \n",
    "    def __init__(self,name_of_vehicle, max_speed, average_of_vehicle):\n",
    "        self.name_of_vehicle = name_of_vehicle\n",
    "        self.max_speed = max_speed\n",
    "        self.average_of_vehicle = average_of_vehicle\n",
    "        \n",
    "    def vehicle_details(self):\n",
    "        return self.name_of_vehicle,self.max_speed,self.average_of_vehicle"
   ]
  },
  {
   "cell_type": "code",
   "execution_count": 2,
   "id": "9a35d64f-3005-4bca-be64-70f043fdb04e",
   "metadata": {},
   "outputs": [
    {
     "data": {
      "text/plain": [
       "('verna', 210, '19-21 kmph')"
      ]
     },
     "execution_count": 2,
     "metadata": {},
     "output_type": "execute_result"
    }
   ],
   "source": [
    "hyundai = Vehicle(\"verna\", 210 , \"19-21 kmph\" )\n",
    "hyundai.vehicle_details()"
   ]
  },
  {
   "cell_type": "markdown",
   "id": "508af71f-9b31-4be9-af42-baad4d5b8552",
   "metadata": {},
   "source": [
    "Q2. Create a child class car from the vehicle class created in Que 1, which will inherit the vehicle class.\n",
    "Create a method named seating_capacity which takes capacity as an argument and returns the name of\n",
    "the vehicle and its seating capacity."
   ]
  },
  {
   "cell_type": "code",
   "execution_count": 3,
   "id": "501bcb29-1d6a-4fb7-bcc7-3fb10b8df124",
   "metadata": {},
   "outputs": [],
   "source": [
    "#ANS2:\n",
    "class Car(Vehicle):\n",
    "    \n",
    "    def seating_capacity(self,capacity):\n",
    "        self.capacity = capacity\n",
    "        \n",
    "        return self.name_of_vehicle , self.capacity"
   ]
  },
  {
   "cell_type": "code",
   "execution_count": 7,
   "id": "6370426d-9eaf-4015-aa88-932cc1581bfd",
   "metadata": {},
   "outputs": [
    {
     "data": {
      "text/plain": [
       "('verna', 5)"
      ]
     },
     "execution_count": 7,
     "metadata": {},
     "output_type": "execute_result"
    }
   ],
   "source": [
    "hyundai = Car(\"verna\", 210 , \"19-21 kmph\")\n",
    "hyundai.seating_capacity(5)"
   ]
  },
  {
   "cell_type": "markdown",
   "id": "dde3dd76-51f2-4429-a52a-13f66d3a3733",
   "metadata": {},
   "source": [
    "Q3. What is multiple inheritance? Write a python code to demonstrate multiple inheritance."
   ]
  },
  {
   "cell_type": "code",
   "execution_count": 11,
   "id": "0d7f6fb2-a314-476a-a0e3-af7227576566",
   "metadata": {},
   "outputs": [
    {
     "name": "stdout",
     "output_type": "stream",
     "text": [
      "red\n",
      "5\n",
      "25\n"
     ]
    }
   ],
   "source": [
    "#ANS3:\n",
    "'''Multiple inheritance occurs when child class is form\n",
    "from two or more parent classes, is just like mother father and son'''\n",
    "\n",
    "class Shape:\n",
    "    def __init__(self, color):\n",
    "        self.color = color\n",
    "\n",
    "class Square:\n",
    "    def __init__(self, side):\n",
    "        self.side = side\n",
    "\n",
    "    def area(self):\n",
    "        return self.side * self.side\n",
    "\n",
    "class ColoredSquare(Shape, Square):\n",
    "    def __init__(self, color, side):\n",
    "        Shape.__init__(self, color)\n",
    "        Square.__init__(self, side)\n",
    "\n",
    "colored_square = ColoredSquare(\"red\", 5)\n",
    "print(colored_square.color) \n",
    "print(colored_square.side)  \n",
    "print(colored_square.area())  \n",
    "\n",
    "\n",
    "    "
   ]
  },
  {
   "cell_type": "markdown",
   "id": "7b1c7297-8957-464e-8ee8-79c6f75a326e",
   "metadata": {},
   "source": [
    "Q4. What are getter and setter in python? Create a class and create a getter and a setter method in this\n",
    "class."
   ]
  },
  {
   "cell_type": "code",
   "execution_count": 24,
   "id": "0f96ba64-624c-4fd9-949e-df4d0975abb4",
   "metadata": {},
   "outputs": [],
   "source": [
    "#ANS4:\n",
    "'''In Python, getters and setters are methods that are used to\n",
    "access and modify the values of an object's attributes, respectively.\n",
    "Getters are methods that return the value of an attribute,\n",
    "while setters are methods that set the value of an attribute.'''\n",
    "\n",
    "class Identity:\n",
    "    \n",
    "    def __init__(self,name,age):\n",
    "        self.name = name\n",
    "        self.age =age\n",
    "    \n",
    "    @property\n",
    "    def details(self):\n",
    "        return self.name , self.age\n",
    "    \n",
    "    @details.setter\n",
    "    def set_details(self,value):\n",
    "        self.age = value"
   ]
  },
  {
   "cell_type": "code",
   "execution_count": 25,
   "id": "9b545898-b28e-4695-95dd-bb355d01f205",
   "metadata": {},
   "outputs": [],
   "source": [
    "v=Identity(\"vansh\",20)"
   ]
  },
  {
   "cell_type": "code",
   "execution_count": 27,
   "id": "c753dd96-7518-4826-a0ac-005366cb07cd",
   "metadata": {},
   "outputs": [
    {
     "data": {
      "text/plain": [
       "('vansh', 20)"
      ]
     },
     "execution_count": 27,
     "metadata": {},
     "output_type": "execute_result"
    }
   ],
   "source": [
    "v.details"
   ]
  },
  {
   "cell_type": "markdown",
   "id": "371930c5-5367-483d-847b-979dca419001",
   "metadata": {},
   "source": [
    "Q5.What is method overriding in python? Write a python code to demonstrate method overriding."
   ]
  },
  {
   "cell_type": "code",
   "execution_count": 30,
   "id": "bd1ba1c8-dbb5-47b3-b0e2-69c201b022c1",
   "metadata": {},
   "outputs": [],
   "source": [
    "#ANS5:\n",
    "'''Method overriding is a concept in object-oriented programming \n",
    "where a subclass provides a different \n",
    "implementation of a method that is already defined in its parent class. \n",
    "The method in the subclass must have the same name, parameters, \n",
    "and return type as the method in the parent class.'''\n",
    "\n",
    "class Animal:\n",
    "    def make_sound(self):\n",
    "        print(\"The animal makes a sound\")\n",
    "\n",
    "class Dog(Animal):\n",
    "    def make_sound(self):\n",
    "        print(\"The dog barks\")\n",
    "\n",
    " \n"
   ]
  },
  {
   "cell_type": "code",
   "execution_count": 31,
   "id": "44bc29d6-815f-4d2a-8de5-82c36cd8b463",
   "metadata": {},
   "outputs": [
    {
     "name": "stdout",
     "output_type": "stream",
     "text": [
      "The animal makes a sound\n",
      "The dog barks\n"
     ]
    }
   ],
   "source": [
    "animal = Animal()\n",
    "animal.make_sound()  \n",
    "\n",
    "dog = Dog()\n",
    "dog.make_sound() "
   ]
  },
  {
   "cell_type": "code",
   "execution_count": null,
   "id": "b8c76083-a583-4967-9eaa-f6daa7fdb21c",
   "metadata": {},
   "outputs": [],
   "source": []
  }
 ],
 "metadata": {
  "kernelspec": {
   "display_name": "Python 3 (ipykernel)",
   "language": "python",
   "name": "python3"
  },
  "language_info": {
   "codemirror_mode": {
    "name": "ipython",
    "version": 3
   },
   "file_extension": ".py",
   "mimetype": "text/x-python",
   "name": "python",
   "nbconvert_exporter": "python",
   "pygments_lexer": "ipython3",
   "version": "3.10.8"
  }
 },
 "nbformat": 4,
 "nbformat_minor": 5
}
